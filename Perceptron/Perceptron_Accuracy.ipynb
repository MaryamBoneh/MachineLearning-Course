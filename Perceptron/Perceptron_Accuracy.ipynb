{
  "nbformat": 4,
  "nbformat_minor": 0,
  "metadata": {
    "colab": {
      "name": "Perceptron_Accuracy.ipynb",
      "provenance": []
    },
    "kernelspec": {
      "name": "python3",
      "display_name": "Python 3"
    },
    "language_info": {
      "name": "python"
    }
  },
  "cells": [
    {
      "cell_type": "code",
      "metadata": {
        "id": "Ersg5OSfdDJK"
      },
      "source": [
        "import numpy as np"
      ],
      "execution_count": 67,
      "outputs": []
    },
    {
      "cell_type": "code",
      "metadata": {
        "id": "tmsho5-hdFEV"
      },
      "source": [
        "data = pd.read_csv('/content/drive/MyDrive/csv_files/linear_data_train.csv')\n",
        "test_data = pd.read_csv('/content/drive/MyDrive/csv_files/linear_data_test.csv')\n",
        "\n",
        "data = np.array(data)\n",
        "test_data = np.array(test_data)\n",
        "\n",
        "X_train = np.array([data[:, 0], data[:, 1]])\n",
        "Y_train = np.array(data[:, 2])\n",
        "X_train = X_train.reshape(-1, 2)\n",
        "\n",
        "X_test = np.array([data[:, 0], data[:, 1]])\n",
        "Y_test = np.array(data[:, 2])\n",
        "X_test = X_test.reshape(-1, 2)"
      ],
      "execution_count": 68,
      "outputs": []
    },
    {
      "cell_type": "code",
      "metadata": {
        "id": "o6ZYeOKX46jO"
      },
      "source": [
        "w = np.random.rand(2)\n",
        "\n",
        "for i in range(len(X_train)):\n",
        "    #train\n",
        "    y_pred = np.matmul(X_train[i], w)\n",
        "    e = Y_train[i] - y_pred\n",
        "    w = w + e * lr * X_train[i]\n",
        "w = w.reshape(2, 1)"
      ],
      "execution_count": 71,
      "outputs": []
    },
    {
      "cell_type": "code",
      "metadata": {
        "colab": {
          "base_uri": "https://localhost:8080/"
        },
        "id": "AQwl1JgldA7t",
        "outputId": "1c7114b8-89eb-4448-b200-3356545f9e96"
      },
      "source": [
        "class Perceptron:\n",
        "    def __init__(self):\n",
        "        self.W = w\n",
        "\n",
        "    def predict(self, X_test):\n",
        "        Y_predic = np.matmul(X_test, self.W)\n",
        "        return Y_predic\n",
        "\n",
        "    def evaluation(self, X, Y):\n",
        "        Y_predic = np.matmul(X, self.W)\n",
        "        correct = 0\n",
        "\n",
        "        for i in range(len(X)):\n",
        "          if (Y[i] > 0 and Y_predic[i] > 0) or (Y[i] < 1 and Y_predic[i] < 1):\n",
        "            correct += 1\n",
        "        acc = (correct * 100 / len(Y)) / 100\n",
        "\n",
        "        return acc\n",
        "\n",
        "\n",
        "model = Perceptron()\n",
        "print('Test Accuracy: ', model.evaluation(X_test, Y_test), 'Train Accuracy: ', model.evaluation(X_train, Y_train))"
      ],
      "execution_count": 72,
      "outputs": [
        {
          "output_type": "stream",
          "text": [
            "Test Accuracy:  0.725 Train Accuracy:  0.725\n"
          ],
          "name": "stdout"
        }
      ]
    }
  ]
}