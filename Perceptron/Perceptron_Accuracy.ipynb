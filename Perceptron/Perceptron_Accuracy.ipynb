{
  "nbformat": 4,
  "nbformat_minor": 0,
  "metadata": {
    "colab": {
      "name": "Perceptron_Accuracy.ipynb",
      "provenance": []
    },
    "kernelspec": {
      "name": "python3",
      "display_name": "Python 3"
    },
    "language_info": {
      "name": "python"
    }
  },
  "cells": [
    {
      "cell_type": "code",
      "metadata": {
        "id": "Ersg5OSfdDJK"
      },
      "source": [
        "import numpy as np"
      ],
      "execution_count": 31,
      "outputs": []
    },
    {
      "cell_type": "code",
      "metadata": {
        "id": "tmsho5-hdFEV"
      },
      "source": [
        "data = pd.read_csv('/content/drive/MyDrive/csv_files/linear_data_train.csv')\n",
        "test_data = pd.read_csv('/content/drive/MyDrive/csv_files/linear_data_test.csv')\n",
        "\n",
        "data = np.array(data)\n",
        "test_data = np.array(test_data)\n",
        "\n",
        "X_train = np.array([data[:, 0], data[:, 1]])\n",
        "Y_train = np.array(data[:, 2])\n",
        "X_train = X_train.reshape(-1, 2)\n",
        "\n",
        "X_test = np.array([data[:, 0], data[:, 1]])\n",
        "Y_test = np.array(data[:, 2])\n",
        "X_test = X_test.reshape(-1, 2)"
      ],
      "execution_count": 52,
      "outputs": []
    },
    {
      "cell_type": "code",
      "metadata": {
        "id": "o6ZYeOKX46jO"
      },
      "source": [
        "w = np.random.rand(2)\n",
        "\n",
        "for i in range(1000):\n",
        "    #train\n",
        "    y_pred = np.matmul(X_train[i], w)\n",
        "    e = Y_train[i] - y_pred\n",
        "    w = w + e * lr * X_train[i]\n",
        "w = w.reshape(2, 1)"
      ],
      "execution_count": 64,
      "outputs": []
    },
    {
      "cell_type": "code",
      "metadata": {
        "colab": {
          "base_uri": "https://localhost:8080/"
        },
        "id": "AQwl1JgldA7t",
        "outputId": "5f41c211-a874-41a1-fc85-15b5f4c9620a"
      },
      "source": [
        "class Perceptron:\n",
        "    def __init__(self):\n",
        "        self.W = w\n",
        "\n",
        "    def predict(self, X_test):\n",
        "        Y_predic = np.matmul(X_test, self.W)\n",
        "        return Y_predic\n",
        "\n",
        "    def evaluation(self, X_test, Y_test, X_train, Y_train):\n",
        "        Y_predic_test = np.matmul(X_test, self.W)\n",
        "        Y_predic_train = np.matmul(X_train, self.W)\n",
        "\n",
        "        test_correct = 0\n",
        "        train_correct = 0\n",
        "\n",
        "        for i in range(len(X_test)):\n",
        "          if (Y_test[i] > 0 and Y_predic_test[i] > 0) or (Y_test[i] < 1 and Y_predic_test[i] < 1):\n",
        "            test_correct += 1\n",
        "        test_acc = (test_correct * 100 / len(Y_test)) / 100\n",
        "\n",
        "        for i in range(len(X_train)):\n",
        "          if (Y_train[i] > 0 and Y_predic_train[i] > 0) or (Y_train[i] < 1 and Y_predic_train[i] < 1):\n",
        "            train_correct += 1\n",
        "        train_acc = (train_correct * 100 / len(Y_train)) / 100\n",
        "\n",
        "        return test_acc, train_acc\n",
        "\n",
        "\n",
        "model = Perceptron()\n",
        "acc = model.evaluation(X_test, Y_test, X_train, Y_train)\n",
        "print('Test Accuracy: ', acc[0], 'Train Accuracy: ', acc[1])"
      ],
      "execution_count": 66,
      "outputs": [
        {
          "output_type": "stream",
          "text": [
            "Test Accuracy:  0.7090000000000001 Train Accuracy:  0.7090000000000001\n"
          ],
          "name": "stdout"
        }
      ]
    }
  ]
}