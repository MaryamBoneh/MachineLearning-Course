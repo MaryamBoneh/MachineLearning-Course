{
  "nbformat": 4,
  "nbformat_minor": 0,
  "metadata": {
    "colab": {
      "name": "Perceptron_Accuracy.ipynb",
      "provenance": []
    },
    "kernelspec": {
      "name": "python3",
      "display_name": "Python 3"
    },
    "language_info": {
      "name": "python"
    }
  },
  "cells": [
    {
      "cell_type": "code",
      "metadata": {
        "id": "Ersg5OSfdDJK"
      },
      "source": [
        "import numpy as np"
      ],
      "execution_count": null,
      "outputs": []
    },
    {
      "cell_type": "code",
      "metadata": {
        "id": "tmsho5-hdFEV"
      },
      "source": [
        "train_data = pd.read_csv('/content/drive/MyDrive/csv_files/linear_data_train.csv')\n",
        "test_data = pd.read_csv('/content/drive/MyDrive/csv_files/linear_data_test.csv')\n",
        "\n",
        "train_data = np.array(train_data)\n",
        "test_data = np.array(test_data)"
      ],
      "execution_count": 81,
      "outputs": []
    },
    {
      "cell_type": "code",
      "metadata": {
        "id": "AQwl1JgldA7t"
      },
      "source": [
        "class Perceptron:\n",
        "    def __init__(self, data):\n",
        "        self.X = np.array([data[:, 0], data[:, 1]])\n",
        "        self.Y = np.array(data[:, 2])\n",
        "        self.X = self.X.reshape(-1, 2)\n",
        "        self.W = np.random.rand(2)\n",
        "\n",
        "        for i in range(len(self.X)):\n",
        "            y_pred = np.matmul(self.X[i], w)\n",
        "            e = self.Y[i] - y_pred\n",
        "            self.W = self.W + e * lr * self.X[i]\n",
        "\n",
        "        self.W = self.W.reshape(2, 1)\n",
        "\n",
        "    def predict(self):\n",
        "        Y_predic = np.matmul(self.X, self.W)\n",
        "        return Y_predic\n",
        "\n",
        "    def evaluation(self):\n",
        "        Y_predic = np.matmul(self.X, self.W)\n",
        "        correct = 0\n",
        "\n",
        "        for i in range(len(self.X)):\n",
        "          if (self.Y[i] > 0 and Y_predic[i] > 0) or (self.Y[i] < 1 and Y_predic[i] < 1):\n",
        "            correct += 1\n",
        "        acc = (correct * 100 / len(self.Y)) / 100\n",
        "\n",
        "        return acc"
      ],
      "execution_count": 88,
      "outputs": []
    },
    {
      "cell_type": "code",
      "metadata": {
        "colab": {
          "base_uri": "https://localhost:8080/"
        },
        "id": "Hd6YUbshRyTz",
        "outputId": "1bcf981e-221c-4adb-bda7-682072c73d1e"
      },
      "source": [
        "test_model = Perceptron(train_data)\n",
        "print('Test Accuracy: ', test_model.evaluation())\n",
        "\n",
        "train_model = Perceptron(test_data)\n",
        "print('Train Accuracy: ', train_model.evaluation())"
      ],
      "execution_count": 89,
      "outputs": [
        {
          "output_type": "stream",
          "text": [
            "Test Accuracy:  0.993\n",
            "Train Accuracy:  0.99\n"
          ],
          "name": "stdout"
        }
      ]
    }
  ]
}