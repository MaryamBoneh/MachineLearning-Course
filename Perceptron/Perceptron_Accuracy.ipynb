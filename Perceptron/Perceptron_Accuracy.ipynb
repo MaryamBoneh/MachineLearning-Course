{
  "nbformat": 4,
  "nbformat_minor": 0,
  "metadata": {
    "colab": {
      "name": "Perceptron_Accuracy.ipynb",
      "provenance": []
    },
    "kernelspec": {
      "name": "python3",
      "display_name": "Python 3"
    },
    "language_info": {
      "name": "python"
    }
  },
  "cells": [
    {
      "cell_type": "code",
      "metadata": {
        "id": "Ersg5OSfdDJK"
      },
      "source": [
        "import numpy as np"
      ],
      "execution_count": null,
      "outputs": []
    },
    {
      "cell_type": "code",
      "metadata": {
        "id": "tmsho5-hdFEV"
      },
      "source": [
        "train_data = pd.read_csv('/content/drive/MyDrive/csv_files/linear_data_train.csv')\n",
        "test_data = pd.read_csv('/content/drive/MyDrive/csv_files/linear_data_test.csv')\n",
        "\n",
        "train_data = np.array(train_data)\n",
        "test_data = np.array(test_data)"
      ],
      "execution_count": 140,
      "outputs": []
    },
    {
      "cell_type": "code",
      "metadata": {
        "id": "AQwl1JgldA7t"
      },
      "source": [
        "class Perceptron:\n",
        "    def __init__(self, data):\n",
        "        self.X = np.array([data[:, 0], data[:, 1]])\n",
        "        self.Y = np.array(data[:, 2])\n",
        "        self.X = self.X.reshape(-1, 2)\n",
        "        self.W = np.random.rand(2)\n",
        "        self.lr = 0.01\n",
        "\n",
        "    def fit(self):\n",
        "        for i in range(len(self.X)):\n",
        "            y_pred = np.matmul(self.X[i], w)\n",
        "            e = self.Y[i] - y_pred\n",
        "            self.W = self.W + e * self.lr * self.X[i]\n",
        "\n",
        "        self.W = self.W.reshape(2, 1)\n",
        "\n",
        "    def predict(self, X):\n",
        "        Y_predic = np.matmul(X, self.W)\n",
        "        res = []\n",
        "        for i in range(len(Y_predic)):\n",
        "          if Y_predic[i] > 0:\n",
        "            res.append(1)\n",
        "          else:\n",
        "            res.append(-1)\n",
        "        return np.array(res)\n",
        "\n",
        "    def evaluation(self, X, Y):\n",
        "        Y_predic = np.matmul(X, self.W)\n",
        "        correct = 0\n",
        "\n",
        "        for i in range(len(X)):\n",
        "          if (Y[i] > 0 and Y_predic[i] > 0) or (Y[i] < 1 and Y_predic[i] < 1):\n",
        "            correct += 1\n",
        "        acc = (correct * 100 / len(Y)) / 100\n",
        "\n",
        "        return acc"
      ],
      "execution_count": 141,
      "outputs": []
    },
    {
      "cell_type": "code",
      "metadata": {
        "colab": {
          "base_uri": "https://localhost:8080/"
        },
        "id": "Hd6YUbshRyTz",
        "outputId": "c569b223-5518-4aa2-e1d6-12c4ddf32f2c"
      },
      "source": [
        "model = Perceptron(train_data)\n",
        "model.fit()\n",
        "\n",
        "print('Test Accuracy: ', model.evaluation(model.X, model.Y))"
      ],
      "execution_count": 142,
      "outputs": [
        {
          "output_type": "stream",
          "text": [
            "Test Accuracy:  0.917\n"
          ],
          "name": "stdout"
        }
      ]
    },
    {
      "cell_type": "code",
      "metadata": {
        "id": "Y0Mbjqgja7DB"
      },
      "source": [
        "X_test = np.array([test_data[:, 0], test_data[:, 1]])\n",
        "Y_test = np.array(test_data[:, 2])\n",
        "X_test = X_test.reshape(-1, 2)"
      ],
      "execution_count": 143,
      "outputs": []
    },
    {
      "cell_type": "code",
      "metadata": {
        "colab": {
          "base_uri": "https://localhost:8080/"
        },
        "id": "bNhfqGmAbEPh",
        "outputId": "7be46ac4-0e03-4d60-fa98-fbbcc018d533"
      },
      "source": [
        "model.predict(X_test)"
      ],
      "execution_count": 144,
      "outputs": [
        {
          "output_type": "execute_result",
          "data": {
            "text/plain": [
              "array([ 1,  1,  1,  1,  1,  1,  1,  1,  1,  1,  1,  1,  1,  1,  1,  1,  1,\n",
              "        1,  1,  1,  1,  1,  1,  1,  1,  1,  1,  1,  1,  1,  1,  1,  1,  1,\n",
              "        1,  1,  1,  1,  1,  1,  1,  1,  1,  1,  1,  1,  1,  1,  1,  1,  1,\n",
              "        1,  1,  1,  1,  1,  1,  1,  1,  1,  1,  1,  1,  1,  1,  1,  1,  1,\n",
              "        1,  1,  1,  1,  1,  1,  1,  1,  1,  1,  1,  1,  1,  1,  1,  1,  1,\n",
              "        1,  1,  1,  1,  1,  1,  1,  1,  1,  1,  1,  1,  1,  1,  1,  1,  1,\n",
              "        1,  1,  1,  1,  1,  1,  1,  1,  1,  1,  1,  1,  1,  1,  1,  1,  1,\n",
              "        1,  1,  1,  1,  1,  1,  1,  1,  1,  1,  1,  1,  1,  1,  1,  1,  1,\n",
              "        1,  1,  1,  1,  1,  1,  1,  1,  1,  1, -1,  1,  1,  1,  1, -1,  1,\n",
              "        1,  1,  1,  1,  1,  1,  1,  1,  1,  1,  1,  1,  1,  1,  1,  1,  1,\n",
              "        1,  1,  1,  1,  1,  1,  1,  1,  1,  1,  1,  1,  1,  1,  1,  1,  1,\n",
              "        1,  1,  1,  1,  1,  1,  1,  1,  1,  1,  1, -1,  1])"
            ]
          },
          "metadata": {},
          "execution_count": 144
        }
      ]
    },
    {
      "cell_type": "code",
      "metadata": {
        "colab": {
          "base_uri": "https://localhost:8080/"
        },
        "id": "Ah_HwNqBUDj5",
        "outputId": "4517e27e-2768-445b-8ff4-c4095473a1a1"
      },
      "source": [
        "print('Test Accuracy: ', model.evaluation(X_test, Y_test))"
      ],
      "execution_count": 145,
      "outputs": [
        {
          "output_type": "stream",
          "text": [
            "Test Accuracy:  0.905\n"
          ],
          "name": "stdout"
        }
      ]
    }
  ]
}