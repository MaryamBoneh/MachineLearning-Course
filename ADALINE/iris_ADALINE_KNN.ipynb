{
  "nbformat": 4,
  "nbformat_minor": 0,
  "metadata": {
    "colab": {
      "name": "iris_ADALINE_KNN",
      "provenance": []
    },
    "kernelspec": {
      "name": "python3",
      "display_name": "Python 3"
    },
    "language_info": {
      "name": "python"
    }
  },
  "cells": [
    {
      "cell_type": "code",
      "metadata": {
        "id": "oPdevxFdbxAM"
      },
      "source": [
        "import numpy as np\n",
        "import pandas as pd\n",
        "import matplotlib.pyplot as plt\n",
        "from numpy.linalg import inv\n",
        "from sklearn.model_selection import train_test_split\n",
        "from sklearn.neighbors import KNeighborsClassifier\n",
        "from sklearn.datasets import load_iris"
      ],
      "execution_count": 12,
      "outputs": []
    },
    {
      "cell_type": "code",
      "metadata": {
        "id": "mOMvVNRLdjDb"
      },
      "source": [
        "IRIS = load_iris()\n",
        "IRIS"
      ],
      "execution_count": null,
      "outputs": []
    },
    {
      "cell_type": "code",
      "metadata": {
        "id": "mAc5Af0RdlaS"
      },
      "source": [
        "X = []\n",
        "Y = []\n",
        "\n",
        "for i, t in enumerate(IRIS.target):\n",
        "  X.append(IRIS.data[i])\n",
        "  Y.append(IRIS.target[i])\n",
        "  if t == 2:\n",
        "    break\n",
        "\n",
        "X = np.array(X)\n",
        "Y = np.array(Y)\n",
        "\n",
        "X_train, X_test, Y_train, Y_test = train_test_split(X, Y, test_size=0.2)"
      ],
      "execution_count": 14,
      "outputs": []
    },
    {
      "cell_type": "code",
      "metadata": {
        "id": "VgCuioTceT53"
      },
      "source": [
        "class KNearestNeighbors:\n",
        "    def __init__(self, k):\n",
        "        self.k = k\n",
        "        \n",
        "    #train\n",
        "    def fit(self, X_train, Y_train):\n",
        "        self.X_train = X_train\n",
        "        self.Y_train = Y_train\n",
        "        self.number_class = len(np.unique(Y_train))\n",
        "        \n",
        "    def nearestNeighbors(self, X_test):\n",
        "        distance = np.sqrt(np.sum((X_test - self.X_train)**2, axis = 1))\n",
        "        near_neighbor = np.argsort(distance)[0:self.k]\n",
        "        return near_neighbor\n",
        "    \n",
        "    #test\n",
        "    def predict(self, X_test):\n",
        "        near_neighbor = self.nearestNeighbors(X_test)\n",
        "        y = np.argmax(np.bincount(self.Y_train[near_neighbor]))\n",
        "        return y\n",
        "    \n",
        "    def evaluate(self, x_test, y_test):\n",
        "        y_pred = []\n",
        "        for i in range(len(x_test)):\n",
        "          y = knn.predict(x_test[i])\n",
        "          y_pred.append(y)\n",
        "        \n",
        "        not_correct = abs(sum(y_pred - y_test))\n",
        "        return ((((len(y_pred) - not_correct)*100)/len(y_pred))/100)     "
      ],
      "execution_count": 15,
      "outputs": []
    },
    {
      "cell_type": "code",
      "metadata": {
        "id": "6SUFuWdBeZiS"
      },
      "source": [
        "class AdalineClassifier:\n",
        "    def __init__(self):\n",
        "        pass\n",
        "    \n",
        "    def fit(self, X_train, Y_train):\n",
        "        self.w = np.matmul(inv(np.matmul(X_train.T, X_train)), np.matmul(X_train.T, Y_train))\n",
        "\n",
        "    def predict(self, X_test):\n",
        "        Y_predic = np.matmul(X_test, self.w)\n",
        "        return Y_predic\n",
        "    \n",
        "    def evaluation(self, X_test, Y_test):\n",
        "        Y_predic = np.matmul(X_test, self.w)\n",
        "        subtract = np.abs(Y_test - Y_predic)\n",
        "        \n",
        "        print('Y_test: ', Y_test)\n",
        "        print('Y_predic: ', Y_predic, '\\n')\n",
        "        \n",
        "        correct = 0\n",
        "        for i in range(len(Y_pred)):\n",
        "          if Y_test[i] == 0 and Y_pred[i] < 0.5:\n",
        "            correct += 1\n",
        "          if Y_test[i] == 1 and Y_pred[i] > 0.5:\n",
        "            correct += 1\n",
        "\n",
        "        average = np.mean(subtract)\n",
        "        acc = (correct * 100) / len(Y_test) / 100\n",
        "        return average, acc\n"
      ],
      "execution_count": 38,
      "outputs": []
    },
    {
      "cell_type": "code",
      "metadata": {
        "colab": {
          "base_uri": "https://localhost:8080/"
        },
        "id": "B3SnmQgjfmbm",
        "outputId": "371d0131-c5ce-4ef1-b8d1-4a9070ecb7e2"
      },
      "source": [
        "knn = KNearestNeighbors(5)\n",
        "knn.fit(X_train, Y_train)\n",
        "\n",
        "print('k= 5  Accuracy=', knn.evaluate(X_test, Y_test))"
      ],
      "execution_count": 36,
      "outputs": [
        {
          "output_type": "stream",
          "text": [
            "k= 5  Accuracy= 0.9523809523809524\n"
          ],
          "name": "stdout"
        }
      ]
    },
    {
      "cell_type": "code",
      "metadata": {
        "colab": {
          "base_uri": "https://localhost:8080/"
        },
        "id": "-XYCYLToedXa",
        "outputId": "c204251f-977e-46bb-e817-41836a9cbedd"
      },
      "source": [
        "model = AdalineRegressor()\n",
        "model.fit(X_train, Y_train)\n",
        "Y_pred = model.predict(X_test)\n",
        "result = model.evaluation(X_test, Y_test)\n",
        "print('evaluation= ',result[0],' Accuracy= ',result[1])"
      ],
      "execution_count": 37,
      "outputs": [
        {
          "output_type": "stream",
          "text": [
            "Y_test:  [0 1 0 1 0 0 0 1 0 2 0 1 0 1 1 0 1 1 1 0 1]\n",
            "Y_predic:  [ 0.08527017  0.93368219 -0.02414505  1.02161429 -0.02545577  0.02357826\n",
            "  0.04331806  1.01225188  0.05136783  1.57325335 -0.03792018  1.01002292\n",
            "  0.00767027  0.89958637  1.17526213 -0.02259373  1.15115673  0.95245157\n",
            "  0.92859056 -0.13104065  1.06463422] \n",
            "\n",
            "evaluation=  0.07617800526434453  Accuracy=  0.9523809523809524\n"
          ],
          "name": "stdout"
        }
      ]
    }
  ]
}