{
  "nbformat": 4,
  "nbformat_minor": 0,
  "metadata": {
    "colab": {
      "name": "iris_ADALINE_KNN",
      "provenance": []
    },
    "kernelspec": {
      "name": "python3",
      "display_name": "Python 3"
    },
    "language_info": {
      "name": "python"
    }
  },
  "cells": [
    {
      "cell_type": "code",
      "metadata": {
        "id": "oPdevxFdbxAM"
      },
      "source": [
        "import numpy as np\n",
        "import pandas as pd\n",
        "import matplotlib.pyplot as plt\n",
        "from numpy.linalg import inv\n",
        "from sklearn.model_selection import train_test_split\n",
        "from sklearn.neighbors import KNeighborsClassifier\n",
        "from sklearn.datasets import load_iris"
      ],
      "execution_count": 29,
      "outputs": []
    },
    {
      "cell_type": "code",
      "metadata": {
        "id": "mOMvVNRLdjDb"
      },
      "source": [
        "IRIS = load_iris()\n",
        "IRIS"
      ],
      "execution_count": null,
      "outputs": []
    },
    {
      "cell_type": "code",
      "metadata": {
        "id": "mAc5Af0RdlaS"
      },
      "source": [
        "X = IRIS.data\n",
        "Y = IRIS.target\n",
        "\n",
        "X_train, X_test, Y_train, Y_test = train_test_split(X, Y, test_size=0.2)"
      ],
      "execution_count": 31,
      "outputs": []
    },
    {
      "cell_type": "code",
      "metadata": {
        "id": "VgCuioTceT53"
      },
      "source": [
        "class KNearestNeighbors:\n",
        "    def __init__(self, k):\n",
        "        self.k = k\n",
        "        \n",
        "    #train\n",
        "    def fit(self, X_train, Y_train):\n",
        "        self.X_train = X_train\n",
        "        self.Y_train = Y_train\n",
        "        self.number_class = len(np.unique(Y_train))\n",
        "        \n",
        "    def nearestNeighbors(self, X_test):\n",
        "        distance = np.sqrt(np.sum((X_test - self.X_train)**2, axis = 1))\n",
        "        near_neighbor = np.argsort(distance)[0:self.k]\n",
        "        return near_neighbor\n",
        "    \n",
        "    #test\n",
        "    def predict(self, X_test):\n",
        "        near_neighbor = self.nearestNeighbors(X_test)\n",
        "        y = np.argmax(np.bincount(self.Y_train[near_neighbor]))\n",
        "        return y\n",
        "    \n",
        "    def evaluate(self, x_test, y_test):\n",
        "        y_pred = []\n",
        "        for i in range(len(x_test)):\n",
        "          y = knn.predict(x_test[i])\n",
        "          y_pred.append(y)\n",
        "        \n",
        "        not_correct = abs(sum(y_pred - y_test))\n",
        "        return ((((len(y_pred) - not_correct)*100)/len(y_pred))/100)     "
      ],
      "execution_count": 32,
      "outputs": []
    },
    {
      "cell_type": "code",
      "metadata": {
        "id": "6SUFuWdBeZiS"
      },
      "source": [
        "class AdalineRegressor:\n",
        "    def __init__(self):\n",
        "        pass\n",
        "    \n",
        "\n",
        "    def fit(self, X_train, Y_train):\n",
        "        self.w = np.matmul(inv(np.matmul(X_train.T, X_train)), np.matmul(X_train.T, Y_train))\n",
        "\n",
        "        \n",
        "    def predict(self, X_test):\n",
        "        Y_predic = np.matmul(X_test, self.w)\n",
        "        return Y_predic\n",
        "    \n",
        "\n",
        "    def evaluation(self, X_test, Y_test):\n",
        "        Y_predic = np.matmul(X_test, self.w)\n",
        "        subtract = np.abs(Y_test - Y_predic)\n",
        "        average = np.mean(subtract)\n",
        "\n",
        "        mae=np.mean(subtract)\n",
        "        mse=np.mean((subtract)**2)\n",
        "\n",
        "        return average, mae, mse\n"
      ],
      "execution_count": 33,
      "outputs": []
    },
    {
      "cell_type": "code",
      "metadata": {
        "colab": {
          "base_uri": "https://localhost:8080/"
        },
        "id": "B3SnmQgjfmbm",
        "outputId": "2d8f5a04-312c-4e60-8f93-547285102c91"
      },
      "source": [
        "knn = KNearestNeighbors(5)\n",
        "knn.fit(X_train, Y_train)\n",
        "\n",
        "print('k= 5  Accuracy=', knn.evaluate(X_test, Y_test))"
      ],
      "execution_count": 34,
      "outputs": [
        {
          "output_type": "stream",
          "text": [
            "k= 5  Accuracy= 0.9333333333333332\n"
          ],
          "name": "stdout"
        }
      ]
    },
    {
      "cell_type": "code",
      "metadata": {
        "colab": {
          "base_uri": "https://localhost:8080/"
        },
        "id": "-XYCYLToedXa",
        "outputId": "f4e14283-ea0a-43cb-ac42-65ab8120e5f8"
      },
      "source": [
        "model = AdalineRegressor()\n",
        "model.fit(X_train, Y_train)\n",
        "model.predict(X_test)\n",
        "result = model.evaluation(X_test, Y_test)\n",
        "print('evaluation: ',result[0],' mae: ',result[1], ' mse: ', result[2])"
      ],
      "execution_count": 35,
      "outputs": [
        {
          "output_type": "stream",
          "text": [
            "evaluation:  0.17621877738693198  mae:  0.17621877738693198  mse:  0.053898725930693905\n"
          ],
          "name": "stdout"
        }
      ]
    }
  ]
}