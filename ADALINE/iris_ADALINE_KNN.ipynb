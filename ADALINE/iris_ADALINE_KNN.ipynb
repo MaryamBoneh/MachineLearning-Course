{
  "nbformat": 4,
  "nbformat_minor": 0,
  "metadata": {
    "colab": {
      "name": "iris_ADALINE_KNN",
      "provenance": []
    },
    "kernelspec": {
      "name": "python3",
      "display_name": "Python 3"
    },
    "language_info": {
      "name": "python"
    }
  },
  "cells": [
    {
      "cell_type": "code",
      "metadata": {
        "id": "oPdevxFdbxAM"
      },
      "source": [
        "import numpy as np\n",
        "import pandas as pd\n",
        "import matplotlib.pyplot as plt\n",
        "from numpy.linalg import inv\n",
        "from sklearn.model_selection import train_test_split\n",
        "from sklearn.neighbors import KNeighborsClassifier\n",
        "from sklearn.datasets import load_iris"
      ],
      "execution_count": 39,
      "outputs": []
    },
    {
      "cell_type": "code",
      "metadata": {
        "id": "mOMvVNRLdjDb"
      },
      "source": [
        "IRIS = load_iris()\n",
        "IRIS"
      ],
      "execution_count": null,
      "outputs": []
    },
    {
      "cell_type": "code",
      "metadata": {
        "id": "mAc5Af0RdlaS"
      },
      "source": [
        "X = []\n",
        "Y = []\n",
        "\n",
        "for i, t in enumerate(IRIS.target):\n",
        "  if t == 2:\n",
        "    break\n",
        "  X.append(IRIS.data[i])\n",
        "  Y.append(IRIS.target[i])\n",
        "\n",
        "X = np.array(X)\n",
        "Y = np.array(Y)\n",
        "\n",
        "X_train, X_test, Y_train, Y_test = train_test_split(X, Y, test_size=0.2)"
      ],
      "execution_count": 49,
      "outputs": []
    },
    {
      "cell_type": "code",
      "metadata": {
        "id": "VgCuioTceT53"
      },
      "source": [
        "class KNearestNeighbors:\n",
        "    def __init__(self, k):\n",
        "        self.k = k\n",
        "        \n",
        "    #train\n",
        "    def fit(self, X_train, Y_train):\n",
        "        self.X_train = X_train\n",
        "        self.Y_train = Y_train\n",
        "        self.number_class = len(np.unique(Y_train))\n",
        "        \n",
        "    def nearestNeighbors(self, X_test):\n",
        "        distance = np.sqrt(np.sum((X_test - self.X_train)**2, axis = 1))\n",
        "        near_neighbor = np.argsort(distance)[0:self.k]\n",
        "        return near_neighbor\n",
        "    \n",
        "    #test\n",
        "    def predict(self, X_test):\n",
        "        near_neighbor = self.nearestNeighbors(X_test)\n",
        "        y = np.argmax(np.bincount(self.Y_train[near_neighbor]))\n",
        "        return y\n",
        "    \n",
        "    def evaluate(self, x_test, y_test):\n",
        "        y_pred = []\n",
        "        for i in range(len(x_test)):\n",
        "          y = knn.predict(x_test[i])\n",
        "          y_pred.append(y)\n",
        "        \n",
        "        not_correct = abs(sum(y_pred - y_test))\n",
        "        return ((((len(y_pred) - not_correct)*100)/len(y_pred))/100)     "
      ],
      "execution_count": 50,
      "outputs": []
    },
    {
      "cell_type": "code",
      "metadata": {
        "id": "6SUFuWdBeZiS"
      },
      "source": [
        "class AdalineClassifier:\n",
        "    def __init__(self):\n",
        "        pass\n",
        "    \n",
        "    def fit(self, X_train, Y_train):\n",
        "        self.w = np.matmul(inv(np.matmul(X_train.T, X_train)), np.matmul(X_train.T, Y_train))\n",
        "\n",
        "    def predict(self, X_test):\n",
        "        Y_predic = np.matmul(X_test, self.w)\n",
        "        return Y_predic\n",
        "    \n",
        "    def evaluation(self, X_test, Y_test):\n",
        "        Y_predic = np.matmul(X_test, self.w)\n",
        "        subtract = np.abs(Y_test - Y_predic)\n",
        "        \n",
        "        print('Y_test: ', Y_test)\n",
        "        print('Y_predic: ', Y_predic, '\\n')\n",
        "        \n",
        "        correct = 0\n",
        "        for i in range(len(Y_pred)):\n",
        "          if Y_test[i] == 0 and Y_pred[i] < 0.5:\n",
        "            correct += 1\n",
        "          if Y_test[i] == 1 and Y_pred[i] > 0.5:\n",
        "            correct += 1\n",
        "\n",
        "        average = np.mean(subtract)\n",
        "        acc = (correct * 100) / len(Y_test) / 100\n",
        "        return average, acc\n"
      ],
      "execution_count": 51,
      "outputs": []
    },
    {
      "cell_type": "code",
      "metadata": {
        "colab": {
          "base_uri": "https://localhost:8080/"
        },
        "id": "B3SnmQgjfmbm",
        "outputId": "52d1f1ed-9f76-439e-a7b7-9b8cdb6628ca"
      },
      "source": [
        "knn = KNearestNeighbors(5)\n",
        "knn.fit(X_train, Y_train)\n",
        "\n",
        "print('k= 5  Accuracy=', knn.evaluate(X_test, Y_test))"
      ],
      "execution_count": 52,
      "outputs": [
        {
          "output_type": "stream",
          "text": [
            "k= 5  Accuracy= 1.0\n"
          ],
          "name": "stdout"
        }
      ]
    },
    {
      "cell_type": "code",
      "metadata": {
        "colab": {
          "base_uri": "https://localhost:8080/"
        },
        "id": "-XYCYLToedXa",
        "outputId": "9ec38c8a-4c43-44f2-a4c0-5fc0a939f497"
      },
      "source": [
        "model = AdalineRegressor()\n",
        "model.fit(X_train, Y_train)\n",
        "Y_pred = model.predict(X_test)\n",
        "result = model.evaluation(X_test, Y_test)\n",
        "print('evaluation= ',result[0],' Accuracy= ',result[1])"
      ],
      "execution_count": 53,
      "outputs": [
        {
          "output_type": "stream",
          "text": [
            "Y_test:  [0 0 1 1 0 1 1 0 0 1 1 1 0 1 0 0 0 1 1 0]\n",
            "Y_predic:  [-0.02920155  0.09146637  0.97183384  0.98179441  0.00773186  0.96622637\n",
            "  0.81184241  0.05051168  0.0406854   0.8620059   1.07408636  0.81673645\n",
            " -0.10859166  1.02387599 -0.02021635 -0.05516085  0.12588715  1.01260532\n",
            "  1.1302304  -0.1264835 ] \n",
            "\n",
            "evaluation=  0.0743147509002037  Accuracy=  1.0\n"
          ],
          "name": "stdout"
        }
      ]
    }
  ]
}