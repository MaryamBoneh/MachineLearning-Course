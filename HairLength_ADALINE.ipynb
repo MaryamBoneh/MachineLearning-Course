{
  "nbformat": 4,
  "nbformat_minor": 0,
  "metadata": {
    "colab": {
      "name": "HairLength-ADALINE.ipynb",
      "provenance": []
    },
    "kernelspec": {
      "name": "python3",
      "display_name": "Python 3"
    },
    "language_info": {
      "name": "python"
    }
  },
  "cells": [
    {
      "cell_type": "code",
      "metadata": {
        "id": "spu1kv_I0Qr_"
      },
      "source": [
        "import numpy as np\n",
        "import pandas as pd\n",
        "import random\n",
        "import matplotlib.pyplot as plt\n",
        "from scipy import stats\n",
        "from numpy.linalg import inv\n",
        "from sklearn.neighbors import KNeighborsClassifier"
      ],
      "execution_count": 1,
      "outputs": []
    },
    {
      "cell_type": "code",
      "metadata": {
        "colab": {
          "base_uri": "https://localhost:8080/",
          "height": 282
        },
        "id": "6MYnPea3dM3S",
        "outputId": "ed973392-6f72-4279-953b-42975e511040"
      },
      "source": [
        "N = 50\n",
        "\n",
        "X = []\n",
        "Y = []\n",
        "\n",
        "for i in range(N):\n",
        "  X.append(np.random.randint(15, 100, dtype=int))\n",
        "\n",
        "for i in range(N):\n",
        "  X.append(np.random.randint(0, 10, dtype=int))\n",
        "\n",
        "X = np.array(X)\n",
        "Y = np.array(Y)\n",
        "\n",
        "Y = np.zeros(N*2)\n",
        "Y[N:N*2] = 1\n",
        "\n",
        "plt.scatter(X, Y)"
      ],
      "execution_count": 16,
      "outputs": [
        {
          "output_type": "execute_result",
          "data": {
            "text/plain": [
              "<matplotlib.collections.PathCollection at 0x7f6f93249050>"
            ]
          },
          "metadata": {
            "tags": []
          },
          "execution_count": 16
        },
        {
          "output_type": "display_data",
          "data": {
            "image/png": "[encoded data removed]",
            "text/plain": [
              "<Figure size 432x288 with 1 Axes>"
            ]
          },
          "metadata": {
            "tags": [],
            "needs_background": "light"
          }
        }
      ]
    },
    {
      "cell_type": "code",
      "metadata": {
        "id": "B6aEfP8JizuZ",
        "colab": {
          "base_uri": "https://localhost:8080/"
        },
        "outputId": "ba78ebc6-ac8e-4390-f727-eab6c4e275d8"
      },
      "source": [
        "Y"
      ],
      "execution_count": 17,
      "outputs": [
        {
          "output_type": "execute_result",
          "data": {
            "text/plain": [
              "array([0., 0., 0., 0., 0., 0., 0., 0., 0., 0., 0., 0., 0., 0., 0., 0., 0.,\n",
              "       0., 0., 0., 0., 0., 0., 0., 0., 0., 0., 0., 0., 0., 0., 0., 0., 0.,\n",
              "       0., 0., 0., 0., 0., 0., 0., 0., 0., 0., 0., 0., 0., 0., 0., 0., 1.,\n",
              "       1., 1., 1., 1., 1., 1., 1., 1., 1., 1., 1., 1., 1., 1., 1., 1., 1.,\n",
              "       1., 1., 1., 1., 1., 1., 1., 1., 1., 1., 1., 1., 1., 1., 1., 1., 1.,\n",
              "       1., 1., 1., 1., 1., 1., 1., 1., 1., 1., 1., 1., 1., 1., 1.])"
            ]
          },
          "metadata": {
            "tags": []
          },
          "execution_count": 17
        }
      ]
    },
    {
      "cell_type": "code",
      "metadata": {
        "id": "NQ7_s2G3jKTJ",
        "colab": {
          "base_uri": "https://localhost:8080/"
        },
        "outputId": "c83b0311-b751-438b-cc22-2e25ac73cf79"
      },
      "source": [
        "X"
      ],
      "execution_count": 18,
      "outputs": [
        {
          "output_type": "execute_result",
          "data": {
            "text/plain": [
              "array([98, 81, 17, 50, 59, 33, 37, 28, 15, 45, 19, 30, 80, 54, 29, 93, 74,\n",
              "       58, 83, 60, 56, 83, 51, 28, 65, 65, 54, 15, 18, 82, 69, 89, 44, 95,\n",
              "       56, 33, 98, 51, 59, 57, 70, 28, 53, 16, 43, 98, 25, 32, 36, 36,  1,\n",
              "        7,  5,  1,  2,  4,  4,  2,  2,  8,  8,  5,  6,  7,  1,  9,  9,  6,\n",
              "        5,  9,  7,  7,  3,  6,  5,  8,  9,  7,  3,  3,  3,  7,  7,  2,  3,\n",
              "        7,  5,  8,  7,  5,  1,  6,  2,  5,  0,  4,  0,  1,  4,  5])"
            ]
          },
          "metadata": {
            "tags": []
          },
          "execution_count": 18
        }
      ]
    },
    {
      "cell_type": "code",
      "metadata": {
        "colab": {
          "base_uri": "https://localhost:8080/"
        },
        "id": "JPh2G6zNjMYs",
        "outputId": "dba90cba-7b9a-4a7d-9ab5-c33ee344e635"
      },
      "source": [
        "X = X.reshape(100, 1)\n",
        "Y = Y.reshape(100, 1)\n",
        "\n",
        "print(X.shape, Y.shape)"
      ],
      "execution_count": 19,
      "outputs": [
        {
          "output_type": "stream",
          "text": [
            "(100, 1) (100, 1)\n"
          ],
          "name": "stdout"
        }
      ]
    },
    {
      "cell_type": "code",
      "metadata": {
        "colab": {
          "base_uri": "https://localhost:8080/",
          "height": 282
        },
        "id": "2DWg-F56mq3X",
        "outputId": "95b47be5-2080-4edc-d861-3699a8a95e4a"
      },
      "source": [
        "m1 = random.uniform(0.1, 0.7)\n",
        "m2 = random.uniform(0.1, 0.7)\n",
        "\n",
        "Y_pred1 = X * m1\n",
        "Y_pred2 = X * m2\n",
        "\n",
        "plt.scatter(X, Y)\n",
        "\n",
        "plt.plot(X, Y_pred1, c= 'red')\n",
        "plt.plot(X, Y_pred2, c= 'red')"
      ],
      "execution_count": 20,
      "outputs": [
        {
          "output_type": "execute_result",
          "data": {
            "text/plain": [
              "[<matplotlib.lines.Line2D at 0x7f6f931ab650>]"
            ]
          },
          "metadata": {
            "tags": []
          },
          "execution_count": 20
        },
        {
          "output_type": "display_data",
          "data": {
            "image/png": "[encoded data removed]",
            "text/plain": [
              "<Figure size 432x288 with 1 Axes>"
            ]
          },
          "metadata": {
            "tags": [],
            "needs_background": "light"
          }
        }
      ]
    },
    {
      "cell_type": "code",
      "metadata": {
        "colab": {
          "base_uri": "https://localhost:8080/",
          "height": 282
        },
        "id": "aj0deTjMnJkO",
        "outputId": "f1f43cc5-39a2-410d-d5fc-4907947f71a1"
      },
      "source": [
        "m = np.matmul(inv(np.matmul(X.T, X)), np.matmul(X.T, Y))\n",
        "\n",
        "Y_pred = X * m\n",
        "\n",
        "plt.scatter(X, Y)\n",
        "plt.plot(X, Y_pred, c= 'green')"
      ],
      "execution_count": 21,
      "outputs": [
        {
          "output_type": "execute_result",
          "data": {
            "text/plain": [
              "[<matplotlib.lines.Line2D at 0x7f6f93112ed0>]"
            ]
          },
          "metadata": {
            "tags": []
          },
          "execution_count": 21
        },
        {
          "output_type": "display_data",
          "data": {
            "image/png": "[encoded data removed]",
            "text/plain": [
              "<Figure size 432x288 with 1 Axes>"
            ]
          },
          "metadata": {
            "tags": [],
            "needs_background": "light"
          }
        }
      ]
    }
  ]
}